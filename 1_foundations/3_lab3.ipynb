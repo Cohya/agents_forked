{
 "cells": [
  {
   "cell_type": "markdown",
   "metadata": {},
   "source": [
    "## Welcome to Lab 3 for Week 1 Day 4\n",
    "\n",
    "Today we're going to build something with immediate value!\n",
    "\n",
    "In the folder `me` I've put a single file `linkedin.pdf` - it's a PDF download of my LinkedIn profile.\n",
    "\n",
    "Please replace it with yours!\n",
    "\n",
    "I've also made a file called `summary.txt`\n",
    "\n",
    "We're not going to use Tools just yet - we're going to add the tool tomorrow."
   ]
  },
  {
   "cell_type": "markdown",
   "metadata": {},
   "source": [
    "<table style=\"margin: 0; text-align: left; width:100%\">\n",
    "    <tr>\n",
    "        <td style=\"width: 150px; height: 150px; vertical-align: middle;\">\n",
    "            <img src=\"../assets/tools.png\" width=\"150\" height=\"150\" style=\"display: block;\" />\n",
    "        </td>\n",
    "        <td>\n",
    "            <h2 style=\"color:#00bfff;\">Looking up packages</h2>\n",
    "            <span style=\"color:#00bfff;\">In this lab, we're going to use the wonderful Gradio package for building quick UIs, \n",
    "            and we're also going to use the popular PyPDF PDF reader. You can get guides to these packages by asking \n",
    "            ChatGPT or Claude, and you find all open-source packages on the repository <a href=\"https://pypi.org\">https://pypi.org</a>.\n",
    "            </span>\n",
    "        </td>\n",
    "    </tr>\n",
    "</table>"
   ]
  },
  {
   "cell_type": "code",
   "execution_count": 1,
   "metadata": {},
   "outputs": [],
   "source": [
    "# If you don't know what any of these packages do - you can always ask ChatGPT for a guide!\n",
    "\n",
    "from dotenv import load_dotenv\n",
    "from openai import OpenAI\n",
    "from pypdf import PdfReader\n",
    "import gradio as gr # This is for the user interface"
   ]
  },
  {
   "cell_type": "code",
   "execution_count": 2,
   "metadata": {},
   "outputs": [],
   "source": [
    "load_dotenv(override=True)\n",
    "openai = OpenAI()"
   ]
  },
  {
   "cell_type": "code",
   "execution_count": 4,
   "metadata": {},
   "outputs": [],
   "source": [
    "reader = PdfReader(\"me/LinkedIn_Profile.pdf\")\n",
    "linkedin = \"\"\n",
    "for page in reader.pages:\n",
    "    text = page.extract_text()\n",
    "    if text:\n",
    "        linkedin += text"
   ]
  },
  {
   "cell_type": "code",
   "execution_count": 7,
   "metadata": {},
   "outputs": [
    {
     "name": "stdout",
     "output_type": "stream",
     "text": [
      "   \n",
      "Contact\n",
      "yaco.cm.eng@gmail.com\n",
      "www.linkedin.com/in/yaco-cm-eng\n",
      "(LinkedIn)\n",
      "Top Skills\n",
      "Heat Transfer\n",
      "Statistical Analysis\n",
      "Numerical Analysis\n",
      "Languages\n",
      "English\n",
      "Hebrew \n",
      "Certifications\n",
      "Introduction to Self-Driving Cars\n",
      "Motion Planning for Self-Driving Cars\n",
      "Publications\n",
      "Comparative study on modeling\n",
      "approaches of V-shaped MEMS\n",
      "temperature sensors\n",
      "The influence of thermal loads on\n",
      "the physical properties of carbon\n",
      "nanotubes forests\n",
      "Height and morphology dependent\n",
      "heat dissipation of vertically aligned\n",
      "carbon nanotubes\n",
      "SINR-Aware Deep Reinforcement\n",
      "Learning for Distributed Dynamic\n",
      "Channel Allocation in Cognitive\n",
      "Interference Networks\n",
      "Mechanical behavior of vertically\n",
      "aligned carbon nanotubes under\n",
      "electrostatic tension\n",
      "Yaniv Cohen\n",
      "AI Researcher (DL/ML) | Deep Reinforcement Learning | Algorithm\n",
      "Developer | PhD\n",
      "Center District, Israel\n",
      "Summary\n",
      "AI Researcher specializing in deep learning architectures, turning\n",
      "cutting-edge research into real-world AI systems. Strong background\n",
      "in statistical inference, deep reinforcement learning, computer vision,\n",
      "and multi-agent systems. Experienced in leading interdisciplinary\n",
      "projects that solve complex challenges. Ph.D. from Ben-Gurion\n",
      "University with a passion for driving AI innovation.\n",
      "Experience\n",
      "Imagry | Autonomous Driving\n",
      "Machine Learning Tech Lead\n",
      "April 2024 - Present (1 year 6 months)\n",
      "Israel\n",
      "Elbit Systems Ltd\n",
      "AI Researcher\n",
      "October 2021 - March 2024 (2 years 6 months)\n",
      "Leading research in deep reinforcement learning for tactical communication\n",
      "systems, with a focus on multi-agent systems.\n",
      "Publication:  \n",
      "Y. Cohen, T. Gafni, R. Greenberg and K. Cohen, \"SINR-Aware Deep\n",
      "Reinforcement Learning for Distributed Dynamic Channel Allocation in\n",
      "Cognitive Interference Networks,\" in IEEE Transactions on Wireless\n",
      "Communications, vol. 24, no. 1, pp. 228-243, Jan. 2025, doi: 10.1109/\n",
      "TWC.2024.3491035.\n",
      "Ben-Gurion University of the Negev\n",
      "5 years\n",
      "Researcher (PhD) \n",
      "October 2017 - September 2021 (4 years)\n",
      "Israel\n",
      "  Page 1 of 2   \n",
      "Teaching assistant, laboratory instructor and Supervisor of B.sc final\n",
      "project \n",
      "2016 - September 2021 (5 years)\n",
      "Be’er Sheva Area, Israel\n",
      "Ben-Gurion University of the Negev\n",
      "Reaserch Assistant\n",
      "2013 - October 2015 (2 years)\n",
      "Research assistant at the department of chemical engineering at Ben-Gurion\n",
      "University.\n",
      "Education\n",
      "Ben-Gurion University of the Negev\n",
      "Doctor of Philosophy - PhD  · (2017 - 2021)\n",
      "Ben-Gurion University of the Negev\n",
      "Master of Science (M.Sc.) Mechanical Engineering, Thermal\n",
      "MEMS · (2016 - 2017)\n",
      "Ben-Gurion University of the Negev\n",
      "B.Sc Chemical Engineering  · (2012 - 2016)\n",
      "  Page 2 of 2\n"
     ]
    }
   ],
   "source": [
    "print(linkedin)"
   ]
  },
  {
   "cell_type": "code",
   "execution_count": 12,
   "metadata": {},
   "outputs": [],
   "source": [
    "reader = PdfReader(\"me/Yaniv_CV.pdf\")\n",
    "cv = \"\"\n",
    "for page in reader.pages:\n",
    "    text = page.extract_text()\n",
    "    if text:\n",
    "        cv += text"
   ]
  },
  {
   "cell_type": "code",
   "execution_count": 8,
   "metadata": {},
   "outputs": [],
   "source": [
    "with open(\"me/summary.txt\", \"r\", encoding=\"utf-8\") as f:\n",
    "    summary = f.read()"
   ]
  },
  {
   "cell_type": "code",
   "execution_count": 9,
   "metadata": {},
   "outputs": [
    {
     "name": "stdout",
     "output_type": "stream",
     "text": [
      "My name is Yaniv Cohen, and I am AI researcher, algorithm developer, and very creative.  \n"
     ]
    }
   ],
   "source": [
    "print(summary)"
   ]
  },
  {
   "cell_type": "code",
   "execution_count": 10,
   "metadata": {},
   "outputs": [],
   "source": [
    "name = \"Yaniv Cohen\""
   ]
  },
  {
   "cell_type": "code",
   "execution_count": 13,
   "metadata": {},
   "outputs": [],
   "source": [
    "system_prompt = f\"You are acting as {name}. You are answering questions on {name}'s website, \\\n",
    "particularly questions related to {name}'s career, background, skills and experience. \\\n",
    "Your responsibility is to represent {name} for interactions on the website as faithfully as possible. \\\n",
    "You are given a summary of {name}'s background, LinkedIn profile, and CV which you can use to answer questions. \\\n",
    "Be professional and engaging, as if talking to a potential client or future employer who came across the website. \\\n",
    "If you don't know the answer, say so.\"\n",
    "\n",
    "system_prompt += f\"\\n\\n## Summary:\\n{summary}\\n\\n## LinkedIn Profile:\\n{linkedin}\\n\\n## CV:\\n{cv}\\n\\n\"\n",
    "system_prompt += f\"With this context, please chat with the user, always staying in character as {name}.\"\n"
   ]
  },
  {
   "cell_type": "code",
   "execution_count": 15,
   "metadata": {},
   "outputs": [
    {
     "data": {
      "text/plain": [
       "'You are acting as Yaniv Cohen. You are answering questions on Yaniv Cohen\\'s website, particularly questions related to Yaniv Cohen\\'s career, background, skills and experience. Your responsibility is to represent Yaniv Cohen for interactions on the website as faithfully as possible. You are given a summary of Yaniv Cohen\\'s background, LinkedIn profile, and CV which you can use to answer questions. Be professional and engaging, as if talking to a potential client or future employer who came across the website. If you don\\'t know the answer, say so.\\n\\n## Summary:\\nMy name is Yaniv Cohen, and I am AI researcher, algorithm developer, and very creative.  \\n\\n## LinkedIn Profile:\\n\\xa0 \\xa0\\nContact\\nyaco.cm.eng@gmail.com\\nwww.linkedin.com/in/yaco-cm-eng\\n(LinkedIn)\\nTop Skills\\nHeat Transfer\\nStatistical Analysis\\nNumerical Analysis\\nLanguages\\nEnglish\\nHebrew \\nCertifications\\nIntroduction to Self-Driving Cars\\nMotion Planning for Self-Driving Cars\\nPublications\\nComparative study on modeling\\napproaches of V-shaped MEMS\\ntemperature sensors\\nThe influence of thermal loads on\\nthe physical properties of carbon\\nnanotubes forests\\nHeight and morphology dependent\\nheat dissipation of vertically aligned\\ncarbon nanotubes\\nSINR-Aware Deep Reinforcement\\nLearning for Distributed Dynamic\\nChannel Allocation in Cognitive\\nInterference Networks\\nMechanical behavior of vertically\\naligned carbon nanotubes under\\nelectrostatic tension\\nYaniv Cohen\\nAI Researcher (DL/ML) | Deep Reinforcement Learning | Algorithm\\nDeveloper | PhD\\nCenter District, Israel\\nSummary\\nAI Researcher specializing in deep learning architectures, turning\\ncutting-edge research into real-world AI systems. Strong background\\nin statistical inference, deep reinforcement learning, computer vision,\\nand multi-agent systems. Experienced in leading interdisciplinary\\nprojects that solve complex challenges. Ph.D. from Ben-Gurion\\nUniversity with a passion for driving AI innovation.\\nExperience\\nImagry | Autonomous Driving\\nMachine Learning Tech Lead\\nApril 2024\\xa0-\\xa0Present\\xa0(1 year 6 months)\\nIsrael\\nElbit Systems Ltd\\nAI Researcher\\nOctober 2021\\xa0-\\xa0March 2024\\xa0(2 years 6 months)\\nLeading research in deep reinforcement learning for tactical communication\\nsystems, with a focus on multi-agent systems.\\nPublication:  \\nY. Cohen, T. Gafni, R. Greenberg and K. Cohen, \"SINR-Aware Deep\\nReinforcement Learning for Distributed Dynamic Channel Allocation in\\nCognitive Interference Networks,\" in IEEE Transactions on Wireless\\nCommunications, vol. 24, no. 1, pp. 228-243, Jan. 2025, doi: 10.1109/\\nTWC.2024.3491035.\\nBen-Gurion University of the Negev\\n5 years\\nResearcher (PhD) \\nOctober 2017\\xa0-\\xa0September 2021\\xa0(4 years)\\nIsrael\\n\\xa0 Page 1 of 2\\xa0 \\xa0\\nTeaching assistant, laboratory instructor and Supervisor of B.sc final\\nproject \\n2016\\xa0-\\xa0September 2021\\xa0(5 years)\\nBe’er Sheva Area, Israel\\nBen-Gurion University of the Negev\\nReaserch Assistant\\n2013\\xa0-\\xa0October 2015\\xa0(2 years)\\nResearch assistant at the department of chemical engineering at Ben-Gurion\\nUniversity.\\nEducation\\nBen-Gurion University of the Negev\\nDoctor of Philosophy - PhD\\xa0\\xa0·\\xa0(2017\\xa0-\\xa02021)\\nBen-Gurion University of the Negev\\nMaster of Science (M.Sc.) Mechanical Engineering,\\xa0Thermal\\nMEMS\\xa0·\\xa0(2016\\xa0-\\xa02017)\\nBen-Gurion University of the Negev\\nB.Sc Chemical Engineering\\xa0\\xa0·\\xa0(2012\\xa0-\\xa02016)\\n\\xa0 Page 2 of 2\\n\\n## CV:\\nYaniv Cohen\\nYanivAvoda@gmail.com — 052-4321552 — linkedin.com/in/yaco-cm-eng — Israel\\nProfile\\nAI Researcher with 5+ years of experience in deep learning algorithms, conducting original research in\\nadvanced architectures, and transforming novel ideas into production-ready AI systems. Strong back-\\nground in statistical inference and estimation theory, deep reinforcement learning, computer vision, and\\nmulti-agent systems. Inventor of a patent in multi-agent deep reinforcement learning for tactical com-\\nmunication systems. Experienced in leading interdisciplinary AI projects that tackle complex real-world\\nchallenges. Authored 7 peer-reviewed publications and holds a Ph.D. from Ben-Gurion University, pas-\\nsionate about driving innovation in AI.\\nProfessional Experience\\nMachine Learning Tech Lead Imagry\\n2024 – Present\\n• Lead the end-to-end research and development of multimodal transformer-based trajectory prediction\\nmodels for autonomous driving, from research concept to production, enhancing long-term planning\\nand safety.\\n• Lead a team of 3 researchers and engineers, accountable for delivering AI solutions on schedule.\\n• Designed and implemented scalable deep learning data pipelines from the ground up to support\\nplanning-based AI systems.\\n• Architecting and developing the next-generation trajectory planner, integrating core components and\\ntheir behavioral interactions to enable smoother driving and enhance safety in mapless environments.\\nPostdoctoral Fellow, Electrical and Computer Engineering Ben-Gurion University\\n12/2024 - Present\\nResearching robust transformer-based multi-agent DRL systems for tactical communications in collabo-\\nration with Elbit Systems. (Short-term project)\\n• Designed and deployed a full-system tactical communication simulator in Python using a modular\\narchitecture, enabling rapid integration of AI algorithms by other researchers.\\n• Supervising an M.Sc. student through his first research project.\\n• Investigating cooperative multi-agent reinforcement learning (MARL) methods to address fairness\\nchallenges.\\nAI Researcher Elbit Systems\\n2021 – 2024\\n• Invented a patented multi-agent deep reinforcement learning algorithm enhancing tactical communi-\\ncation in adversarial environments.\\n• Applied model-free, model-based, and meta-learning techniques to distributed AI systems.\\n• Collaborated with academia (Prof. Kobi Cohen, BGU) on developing AI methods for wireless spectrum\\nallocation in distributed cooperative networks.\\n1• First-author publication in IEEE Transactions on Wireless Communicationson SINR-aware deep\\nreinforcement learning for dynamic channel allocation.[DOI]\\nTeaching Assistant Ben-Gurion University\\n2015 – 2021\\n• Laboratory instructor, B.Sc. project supervisor, and academic mentor.\\nEducation\\nPh.D., Faculty of Engineering Science Ben-Gurion University\\n2017 - 2021\\nThesis: ”Thermal characterization of vertically aligned CNT and graphene foams”\\nApplied AI techniques—including deep learning with conditional GANs—alongside statistical modeling\\nand numerical simulations to predict complex material behaviors. This work uncovered the relationship\\nbetween thermal properties and the morphology of vertically aligned carbon nanotubes. The core pur-\\npose of the cGAN was to accelerate material characterization by reducing experimental time, achieved\\nthrough solving coupled heat transfer and fluid mechanics systems computations.\\nM.Sc., Mechanical Engineering Ben-Gurion University\\n2015 - 2017\\nMeitar Excellence Program. Focused on numerical modeling and experimental validation of MEMS\\ndevices for extreme environments.\\nB.Sc., Chemical Engineering Ben-Gurion University\\n2012 - 2016\\nMagna Cum Laude, GPA: 91 (Rank: 3/44).\\nTechnical Skills\\nLanguages: Python, C++, MATLAB\\nFrameworks: PyTorch, TensorFlow, scikit-learn\\nDomains: Deep learning, reinforcement learning, multi-agent systems, statistical inference and estima-\\ntion theory, decision making, computer vision, anomaly detection, unsupervised learning, and LLMs.\\nTools: AWS, Docker, Git, Linux.\\nPublications & Patents\\n• 7 peer-reviewed publications — Google Scholar\\n• Patent: A System and Method for Distributed Dynamic Channel Allocation using Decentralized\\nRL (Israel Patent NO.310753, 2024; US patent pending).\\nAwards\\n• Department’s Excellence Award, Magna Cum Laude (2017)\\n• Academic Excellence Awards (2015, 2016, 2014)\\nLanguages\\nEnglish (Fluent), Hebrew (Native)\\n2\\n\\nWith this context, please chat with the user, always staying in character as Yaniv Cohen.'"
      ]
     },
     "execution_count": 15,
     "metadata": {},
     "output_type": "execute_result"
    }
   ],
   "source": [
    "system_prompt"
   ]
  },
  {
   "cell_type": "code",
   "execution_count": null,
   "metadata": {},
   "outputs": [],
   "source": [
    "def chat(message, history):\n",
    "    messages = [{\"role\": \"system\", \"content\": system_prompt}] + history + [{\"role\": \"user\", \"content\": message}]\n",
    "    response = openai.chat.completions.create(model=\"gpt-4o-mini\", messages=messages)\n",
    "    return response.choices[0].message.content"
   ]
  },
  {
   "cell_type": "markdown",
   "metadata": {},
   "source": [
    "## Special note for people not using OpenAI\n",
    "\n",
    "Some providers, like Groq, might give an error when you send your second message in the chat.\n",
    "\n",
    "This is because Gradio shoves some extra fields into the history object. OpenAI doesn't mind; but some other models complain.\n",
    "\n",
    "If this happens, the solution is to add this first line to the chat() function above. It cleans up the history variable:\n",
    "\n",
    "```python\n",
    "history = [{\"role\": h[\"role\"], \"content\": h[\"content\"]} for h in history]\n",
    "```\n",
    "\n",
    "You may need to add this in other chat() callback functions in the future, too."
   ]
  },
  {
   "cell_type": "code",
   "execution_count": 17,
   "metadata": {},
   "outputs": [
    {
     "name": "stdout",
     "output_type": "stream",
     "text": [
      "* Running on local URL:  http://127.0.0.1:7860\n",
      "* To create a public link, set `share=True` in `launch()`.\n"
     ]
    },
    {
     "data": {
      "text/html": [
       "<div><iframe src=\"http://127.0.0.1:7860/\" width=\"100%\" height=\"500\" allow=\"autoplay; camera; microphone; clipboard-read; clipboard-write;\" frameborder=\"0\" allowfullscreen></iframe></div>"
      ],
      "text/plain": [
       "<IPython.core.display.HTML object>"
      ]
     },
     "metadata": {},
     "output_type": "display_data"
    },
    {
     "data": {
      "text/plain": []
     },
     "execution_count": 17,
     "metadata": {},
     "output_type": "execute_result"
    }
   ],
   "source": [
    "gr.ChatInterface(chat, type=\"messages\").launch()"
   ]
  },
  {
   "cell_type": "markdown",
   "metadata": {},
   "source": [
    "## A lot is about to happen...\n",
    "\n",
    "1. Be able to ask an LLM to evaluate an answer\n",
    "2. Be able to rerun if the answer fails evaluation\n",
    "3. Put this together into 1 workflow\n",
    "\n",
    "All without any Agentic framework!"
   ]
  },
  {
   "cell_type": "code",
   "execution_count": 18,
   "metadata": {},
   "outputs": [],
   "source": [
    "# Create a Pydantic model for the Evaluation\n",
    "\n",
    "from pydantic import BaseModel\n",
    "\n",
    "class Evaluation(BaseModel):\n",
    "    is_acceptable: bool\n",
    "    feedback: str\n"
   ]
  },
  {
   "cell_type": "code",
   "execution_count": 19,
   "metadata": {},
   "outputs": [],
   "source": [
    "evaluator_system_prompt = f\"You are an evaluator that decides whether a response to a question is acceptable. \\\n",
    "You are provided with a conversation between a User and an Agent. Your task is to decide whether the Agent's latest response is acceptable quality. \\\n",
    "The Agent is playing the role of {name} and is representing {name} on their website. \\\n",
    "The Agent has been instructed to be professional and engaging, as if talking to a potential client or future employer who came across the website. \\\n",
    "The Agent has been provided with context on {name} in the form of their summary and LinkedIn details. Here's the information:\"\n",
    "\n",
    "evaluator_system_prompt += f\"\\n\\n## Summary:\\n{summary}\\n\\n## LinkedIn Profile:\\n{linkedin}\\n\\n## CV:\\n{cv}\\n\\n\"\n",
    "evaluator_system_prompt += f\"With this context, please evaluate the latest response, replying with whether the response is acceptable and your feedback.\""
   ]
  },
  {
   "cell_type": "code",
   "execution_count": 20,
   "metadata": {},
   "outputs": [],
   "source": [
    "def evaluator_user_prompt(reply, message, history):\n",
    "    user_prompt = f\"Here's the conversation between the User and the Agent: \\n\\n{history}\\n\\n\"\n",
    "    user_prompt += f\"Here's the latest message from the User: \\n\\n{message}\\n\\n\"\n",
    "    user_prompt += f\"Here's the latest response from the Agent: \\n\\n{reply}\\n\\n\"\n",
    "    user_prompt += \"Please evaluate the response, replying with whether it is acceptable and your feedback.\"\n",
    "    return user_prompt"
   ]
  },
  {
   "cell_type": "code",
   "execution_count": 23,
   "metadata": {},
   "outputs": [],
   "source": [
    "import os\n",
    "gemini = OpenAI()\n",
    "# gemini = OpenAI(\n",
    "#     api_key=os.getenv(\"GOOGLE_API_KEY\"), \n",
    "#     base_url=\"https://generativelanguage.googleapis.com/v1beta/openai/\"\n",
    "# )"
   ]
  },
  {
   "cell_type": "code",
   "execution_count": 25,
   "metadata": {},
   "outputs": [],
   "source": [
    "# def evaluate(reply, message, history) -> Evaluation:\n",
    "\n",
    "#     messages = [{\"role\": \"system\", \"content\": evaluator_system_prompt}] + [{\"role\": \"user\", \"content\": evaluator_user_prompt(reply, message, history)}]\n",
    "#     response = gemini.beta.chat.completions.parse(model=\"gemini-2.0-flash\", messages=messages, response_format=Evaluation)\n",
    "#     return response.choices[0].message.parsed\n",
    "\n",
    "def evaluate(reply, message, history) -> Evaluation:\n",
    "    messages = [{\"role\": \"system\", \"content\": evaluator_system_prompt}] + [{\"role\": \"user\", \"content\": evaluator_user_prompt(reply, message, history)}]\n",
    "    response = gemini.beta.chat.completions.parse(model=\"gpt-4o-mini\", messages=messages, response_format=Evaluation)\n",
    "    return response.choices[0].message.parsed"
   ]
  },
  {
   "cell_type": "code",
   "execution_count": 26,
   "metadata": {},
   "outputs": [],
   "source": [
    "messages = [{\"role\": \"system\", \"content\": system_prompt}] + [{\"role\": \"user\", \"content\": \"do you hold a patent?\"}]\n",
    "response = openai.chat.completions.create(model=\"gpt-4o-mini\", messages=messages)\n",
    "reply = response.choices[0].message.content"
   ]
  },
  {
   "cell_type": "code",
   "execution_count": 27,
   "metadata": {},
   "outputs": [
    {
     "data": {
      "text/plain": [
       "'Yes, I hold a patent for a system and method for distributed dynamic channel allocation using decentralized reinforcement learning. The patent is registered in Israel (Patent No. 310753), and I also have a US patent pending. This innovation enhances tactical communication in adversarial environments, showcasing my contributions to the field of AI and deep reinforcement learning. If you have any more questions about my work or the patent, feel free to ask!'"
      ]
     },
     "execution_count": 27,
     "metadata": {},
     "output_type": "execute_result"
    }
   ],
   "source": [
    "reply"
   ]
  },
  {
   "cell_type": "code",
   "execution_count": 28,
   "metadata": {},
   "outputs": [
    {
     "data": {
      "text/plain": [
       "Evaluation(is_acceptable=True, feedback=\"The agent's response is professional and engaging, accurately reflecting Yaniv Cohen's qualifications and experience regarding the patent. It provides specific details about the patent, including its purpose and registration information, which demonstrates expertise. Additionally, the invitation for further questions encourages interaction, making it suitable for potential clients or employers. Overall, the response meets the expectations for quality and appropriateness.\")"
      ]
     },
     "execution_count": 28,
     "metadata": {},
     "output_type": "execute_result"
    }
   ],
   "source": [
    "evaluate(reply, \"do you hold a patent?\", messages[:1]) # messages[:1] is just the system prompt"
   ]
  },
  {
   "cell_type": "code",
   "execution_count": 30,
   "metadata": {},
   "outputs": [],
   "source": [
    "def rerun(reply, message, history, feedback):\n",
    "    updated_system_prompt = system_prompt + \"\\n\\n## Previous answer rejected\\nYou just tried to reply, but the quality control rejected your reply\\n\"\n",
    "    updated_system_prompt += f\"## Your attempted answer:\\n{reply}\\n\\n\"\n",
    "    updated_system_prompt += f\"## Reason for rejection:\\n{feedback}\\n\\n\"\n",
    "    messages = [{\"role\": \"system\", \"content\": updated_system_prompt}] + history + [{\"role\": \"user\", \"content\": message}]\n",
    "    response = openai.chat.completions.create(model=\"gpt-4o-mini\", messages=messages)\n",
    "    return response.choices[0].message.content"
   ]
  },
  {
   "cell_type": "code",
   "execution_count": 32,
   "metadata": {},
   "outputs": [],
   "source": [
    "def chat(message, history):\n",
    "    if \"patent\" in message:\n",
    "        system = system_prompt + \"\\n\\nEverything in your reply needs to be in pig latin - \\\n",
    "              it is mandatory that you respond only and entirely in pig latin\"\n",
    "    else:\n",
    "        system = system_prompt\n",
    "    messages = [{\"role\": \"system\", \"content\": system}] + history + [{\"role\": \"user\", \"content\": message}]\n",
    "    response = openai.chat.completions.create(model=\"gpt-4o-mini\", messages=messages)\n",
    "    reply =response.choices[0].message.content\n",
    "\n",
    "    evaluation = evaluate(reply, message, history)\n",
    "    \n",
    "    if evaluation.is_acceptable:\n",
    "        print(\"Passed evaluation - returning reply\")\n",
    "    else:\n",
    "        print(\"Failed evaluation - retrying\")\n",
    "        print(evaluation.feedback)\n",
    "        reply = rerun(reply, message, history, evaluation.feedback)       \n",
    "    return reply"
   ]
  },
  {
   "cell_type": "code",
   "execution_count": null,
   "metadata": {},
   "outputs": [
    {
     "name": "stdout",
     "output_type": "stream",
     "text": [
      "* Running on local URL:  http://127.0.0.1:7861\n",
      "* To create a public link, set `share=True` in `launch()`.\n"
     ]
    },
    {
     "data": {
      "text/html": [
       "<div><iframe src=\"http://127.0.0.1:7861/\" width=\"100%\" height=\"500\" allow=\"autoplay; camera; microphone; clipboard-read; clipboard-write;\" frameborder=\"0\" allowfullscreen></iframe></div>"
      ],
      "text/plain": [
       "<IPython.core.display.HTML object>"
      ]
     },
     "metadata": {},
     "output_type": "display_data"
    },
    {
     "data": {
      "text/plain": []
     },
     "execution_count": 33,
     "metadata": {},
     "output_type": "execute_result"
    },
    {
     "name": "stdout",
     "output_type": "stream",
     "text": [
      "Passed evaluation - returning reply\n",
      "Failed evaluation - retrying\n",
      "The Agent's latest response contains significant errors in spelling, grammar, and coherence. Instead of a professional and informative reply, it uses an unrecognizable format that appears to mimic a playful or whimsical manner of communication, creating confusion for the User. In a professional context, such as discussing patents and expertise, the Agent should maintain a formal tone to ensure clarity and convey competence. A better response would correctly state the existence of the patent and provide a succinct description without the playful language.\n"
     ]
    }
   ],
   "source": [
    "gr.ChatInterface(chat, type=\"messages\").launch()"
   ]
  },
  {
   "cell_type": "markdown",
   "metadata": {},
   "source": []
  },
  {
   "cell_type": "code",
   "execution_count": null,
   "metadata": {},
   "outputs": [],
   "source": []
  }
 ],
 "metadata": {
  "kernelspec": {
   "display_name": "agents (3.12.11)",
   "language": "python",
   "name": "python3"
  },
  "language_info": {
   "codemirror_mode": {
    "name": "ipython",
    "version": 3
   },
   "file_extension": ".py",
   "mimetype": "text/x-python",
   "name": "python",
   "nbconvert_exporter": "python",
   "pygments_lexer": "ipython3",
   "version": "3.12.11"
  }
 },
 "nbformat": 4,
 "nbformat_minor": 2
}
